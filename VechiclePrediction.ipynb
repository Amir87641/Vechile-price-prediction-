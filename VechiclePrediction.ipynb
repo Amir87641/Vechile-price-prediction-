{
 "cells": [
  {
   "cell_type": "code",
   "execution_count": 19,
   "id": "65885473-04ee-4af5-ac2d-dddf26a2088f",
   "metadata": {},
   "outputs": [],
   "source": [
    "import pandas as pd \n",
    "import numpy as np \n",
    "from sklearn.model_selection import train_test_split\n",
    "from sklearn.preprocessing import OneHotEncoder, RobustScaler\n",
    "from sklearn.compose import ColumnTransformer\n",
    "from sklearn.pipeline import Pipeline\n",
    "from sklearn.impute import SimpleImputer\n",
    "from sklearn.ensemble import RandomForestRegressor\n",
    "from sklearn.metrics import mean_absolute_error, mean_squared_error, r2_score\n",
    "import matplotlib.pyplot as plt"
   ]
  },
  {
   "cell_type": "code",
   "execution_count": 21,
   "id": "da3c0228-7307-422d-b5a2-a7acad777518",
   "metadata": {},
   "outputs": [],
   "source": [
    "df= pd.read_csv('Vechiledataset.csv')"
   ]
  },
  {
   "cell_type": "code",
   "execution_count": 25,
   "id": "f2a78c4e-802a-4a12-ad64-3093a778aae7",
   "metadata": {},
   "outputs": [
    {
     "data": {
      "text/html": [
       "<div>\n",
       "<style scoped>\n",
       "    .dataframe tbody tr th:only-of-type {\n",
       "        vertical-align: middle;\n",
       "    }\n",
       "\n",
       "    .dataframe tbody tr th {\n",
       "        vertical-align: top;\n",
       "    }\n",
       "\n",
       "    .dataframe thead th {\n",
       "        text-align: right;\n",
       "    }\n",
       "</style>\n",
       "<table border=\"1\" class=\"dataframe\">\n",
       "  <thead>\n",
       "    <tr style=\"text-align: right;\">\n",
       "      <th></th>\n",
       "      <th>name</th>\n",
       "      <th>description</th>\n",
       "      <th>make</th>\n",
       "      <th>model</th>\n",
       "      <th>year</th>\n",
       "      <th>price</th>\n",
       "      <th>engine</th>\n",
       "      <th>cylinders</th>\n",
       "      <th>fuel</th>\n",
       "      <th>mileage</th>\n",
       "      <th>transmission</th>\n",
       "      <th>trim</th>\n",
       "      <th>body</th>\n",
       "      <th>doors</th>\n",
       "      <th>exterior_color</th>\n",
       "      <th>interior_color</th>\n",
       "      <th>drivetrain</th>\n",
       "    </tr>\n",
       "  </thead>\n",
       "  <tbody>\n",
       "    <tr>\n",
       "      <th>0</th>\n",
       "      <td>2024 Jeep Wagoneer Series II</td>\n",
       "      <td>\\n      \\n        Heated Leather Seats, Nav Sy...</td>\n",
       "      <td>Jeep</td>\n",
       "      <td>Wagoneer</td>\n",
       "      <td>2024</td>\n",
       "      <td>74600.0</td>\n",
       "      <td>24V GDI DOHC Twin Turbo</td>\n",
       "      <td>6.0</td>\n",
       "      <td>Gasoline</td>\n",
       "      <td>10.0</td>\n",
       "      <td>8-Speed Automatic</td>\n",
       "      <td>Series II</td>\n",
       "      <td>SUV</td>\n",
       "      <td>4.0</td>\n",
       "      <td>White</td>\n",
       "      <td>Global Black</td>\n",
       "      <td>Four-wheel Drive</td>\n",
       "    </tr>\n",
       "    <tr>\n",
       "      <th>1</th>\n",
       "      <td>2024 Jeep Grand Cherokee Laredo</td>\n",
       "      <td>Al West is committed to offering every custome...</td>\n",
       "      <td>Jeep</td>\n",
       "      <td>Grand Cherokee</td>\n",
       "      <td>2024</td>\n",
       "      <td>50170.0</td>\n",
       "      <td>OHV</td>\n",
       "      <td>6.0</td>\n",
       "      <td>Gasoline</td>\n",
       "      <td>1.0</td>\n",
       "      <td>8-Speed Automatic</td>\n",
       "      <td>Laredo</td>\n",
       "      <td>SUV</td>\n",
       "      <td>4.0</td>\n",
       "      <td>Metallic</td>\n",
       "      <td>Global Black</td>\n",
       "      <td>Four-wheel Drive</td>\n",
       "    </tr>\n",
       "    <tr>\n",
       "      <th>2</th>\n",
       "      <td>2024 GMC Yukon XL Denali</td>\n",
       "      <td>NaN</td>\n",
       "      <td>GMC</td>\n",
       "      <td>Yukon XL</td>\n",
       "      <td>2024</td>\n",
       "      <td>96410.0</td>\n",
       "      <td>6.2L V-8 gasoline direct injection, variable v...</td>\n",
       "      <td>8.0</td>\n",
       "      <td>Gasoline</td>\n",
       "      <td>0.0</td>\n",
       "      <td>Automatic</td>\n",
       "      <td>Denali</td>\n",
       "      <td>SUV</td>\n",
       "      <td>4.0</td>\n",
       "      <td>Summit White</td>\n",
       "      <td>Teak/Light Shale</td>\n",
       "      <td>Four-wheel Drive</td>\n",
       "    </tr>\n",
       "    <tr>\n",
       "      <th>3</th>\n",
       "      <td>2023 Dodge Durango Pursuit</td>\n",
       "      <td>White Knuckle Clearcoat 2023 Dodge Durango Pur...</td>\n",
       "      <td>Dodge</td>\n",
       "      <td>Durango</td>\n",
       "      <td>2023</td>\n",
       "      <td>46835.0</td>\n",
       "      <td>16V MPFI OHV</td>\n",
       "      <td>8.0</td>\n",
       "      <td>Gasoline</td>\n",
       "      <td>32.0</td>\n",
       "      <td>8-Speed Automatic</td>\n",
       "      <td>Pursuit</td>\n",
       "      <td>SUV</td>\n",
       "      <td>4.0</td>\n",
       "      <td>White Knuckle Clearcoat</td>\n",
       "      <td>Black</td>\n",
       "      <td>All-wheel Drive</td>\n",
       "    </tr>\n",
       "    <tr>\n",
       "      <th>4</th>\n",
       "      <td>2024 RAM 3500 Laramie</td>\n",
       "      <td>\\n      \\n        2024 Ram 3500 Laramie Billet...</td>\n",
       "      <td>RAM</td>\n",
       "      <td>3500</td>\n",
       "      <td>2024</td>\n",
       "      <td>81663.0</td>\n",
       "      <td>24V DDI OHV Turbo Diesel</td>\n",
       "      <td>6.0</td>\n",
       "      <td>Diesel</td>\n",
       "      <td>10.0</td>\n",
       "      <td>6-Speed Automatic</td>\n",
       "      <td>Laramie</td>\n",
       "      <td>Pickup Truck</td>\n",
       "      <td>4.0</td>\n",
       "      <td>Silver</td>\n",
       "      <td>Black</td>\n",
       "      <td>Four-wheel Drive</td>\n",
       "    </tr>\n",
       "  </tbody>\n",
       "</table>\n",
       "</div>"
      ],
      "text/plain": [
       "                              name  \\\n",
       "0     2024 Jeep Wagoneer Series II   \n",
       "1  2024 Jeep Grand Cherokee Laredo   \n",
       "2         2024 GMC Yukon XL Denali   \n",
       "3       2023 Dodge Durango Pursuit   \n",
       "4            2024 RAM 3500 Laramie   \n",
       "\n",
       "                                         description   make           model  \\\n",
       "0  \\n      \\n        Heated Leather Seats, Nav Sy...   Jeep        Wagoneer   \n",
       "1  Al West is committed to offering every custome...   Jeep  Grand Cherokee   \n",
       "2                                                NaN    GMC        Yukon XL   \n",
       "3  White Knuckle Clearcoat 2023 Dodge Durango Pur...  Dodge         Durango   \n",
       "4  \\n      \\n        2024 Ram 3500 Laramie Billet...    RAM            3500   \n",
       "\n",
       "   year    price                                             engine  \\\n",
       "0  2024  74600.0                            24V GDI DOHC Twin Turbo   \n",
       "1  2024  50170.0                                                OHV   \n",
       "2  2024  96410.0  6.2L V-8 gasoline direct injection, variable v...   \n",
       "3  2023  46835.0                                       16V MPFI OHV   \n",
       "4  2024  81663.0                           24V DDI OHV Turbo Diesel   \n",
       "\n",
       "   cylinders      fuel  mileage       transmission       trim          body  \\\n",
       "0        6.0  Gasoline     10.0  8-Speed Automatic  Series II           SUV   \n",
       "1        6.0  Gasoline      1.0  8-Speed Automatic     Laredo           SUV   \n",
       "2        8.0  Gasoline      0.0          Automatic     Denali           SUV   \n",
       "3        8.0  Gasoline     32.0  8-Speed Automatic    Pursuit           SUV   \n",
       "4        6.0    Diesel     10.0  6-Speed Automatic    Laramie  Pickup Truck   \n",
       "\n",
       "   doors           exterior_color    interior_color        drivetrain  \n",
       "0    4.0                    White      Global Black  Four-wheel Drive  \n",
       "1    4.0                 Metallic      Global Black  Four-wheel Drive  \n",
       "2    4.0             Summit White  Teak/Light Shale  Four-wheel Drive  \n",
       "3    4.0  White Knuckle Clearcoat             Black   All-wheel Drive  \n",
       "4    4.0                   Silver             Black  Four-wheel Drive  "
      ]
     },
     "execution_count": 25,
     "metadata": {},
     "output_type": "execute_result"
    }
   ],
   "source": [
    "df.head()"
   ]
  },
  {
   "cell_type": "code",
   "execution_count": 6,
   "id": "0741bb91-4393-4550-ab14-cf1092a14d78",
   "metadata": {},
   "outputs": [
    {
     "name": "stdout",
     "output_type": "stream",
     "text": [
      "<class 'pandas.core.frame.DataFrame'>\n",
      "RangeIndex: 1002 entries, 0 to 1001\n",
      "Data columns (total 17 columns):\n",
      " #   Column          Non-Null Count  Dtype  \n",
      "---  ------          --------------  -----  \n",
      " 0   name            1002 non-null   object \n",
      " 1   description     946 non-null    object \n",
      " 2   make            1002 non-null   object \n",
      " 3   model           1002 non-null   object \n",
      " 4   year            1002 non-null   int64  \n",
      " 5   price           979 non-null    float64\n",
      " 6   engine          1000 non-null   object \n",
      " 7   cylinders       897 non-null    float64\n",
      " 8   fuel            995 non-null    object \n",
      " 9   mileage         968 non-null    float64\n",
      " 10  transmission    1000 non-null   object \n",
      " 11  trim            1001 non-null   object \n",
      " 12  body            999 non-null    object \n",
      " 13  doors           995 non-null    float64\n",
      " 14  exterior_color  997 non-null    object \n",
      " 15  interior_color  964 non-null    object \n",
      " 16  drivetrain      1002 non-null   object \n",
      "dtypes: float64(4), int64(1), object(12)\n",
      "memory usage: 133.2+ KB\n"
     ]
    },
    {
     "data": {
      "text/plain": [
       "name                0\n",
       "description        56\n",
       "make                0\n",
       "model               0\n",
       "year                0\n",
       "price              23\n",
       "engine              2\n",
       "cylinders         105\n",
       "fuel                7\n",
       "mileage            34\n",
       "transmission        2\n",
       "trim                1\n",
       "body                3\n",
       "doors               7\n",
       "exterior_color      5\n",
       "interior_color     38\n",
       "drivetrain          0\n",
       "dtype: int64"
      ]
     },
     "execution_count": 6,
     "metadata": {},
     "output_type": "execute_result"
    }
   ],
   "source": [
    "df.info()\n",
    "df.shape\n",
    "df.isnull().sum()\n"
   ]
  },
  {
   "cell_type": "code",
   "execution_count": 27,
   "id": "85e9834d-636f-46d7-9163-323a9c260d35",
   "metadata": {},
   "outputs": [],
   "source": [
    "df.drop(columns=['name', 'description'], inplace=True, errors='ignore')"
   ]
  },
  {
   "cell_type": "code",
   "execution_count": 29,
   "id": "c5647219-794c-4ce1-a911-5f13e7145124",
   "metadata": {},
   "outputs": [],
   "source": [
    "df = df[df['price'].notnull()]\n",
    "df = df[df['price'] < df['price'].quantile(0.99)]"
   ]
  },
  {
   "cell_type": "code",
   "execution_count": 31,
   "id": "cb26ef38-e1b1-42a6-aa5c-753a3e03eb3b",
   "metadata": {},
   "outputs": [],
   "source": [
    "X = df.drop(columns=['price'])\n",
    "y = df['price']\n"
   ]
  },
  {
   "cell_type": "code",
   "execution_count": 35,
   "id": "a068bd19-6bc8-4fcd-baa7-32e376cf4247",
   "metadata": {},
   "outputs": [],
   "source": [
    "X_train, X_test, y_train, y_test = train_test_split(X, y, test_size=0.2, random_state=42)\n"
   ]
  },
  {
   "cell_type": "code",
   "execution_count": 37,
   "id": "3d854728-3f82-4d3d-9739-e15f6c5ca2b7",
   "metadata": {},
   "outputs": [],
   "source": [
    "numeric_features = X.select_dtypes(include=['int64', 'float64']).columns.tolist()\n",
    "categorical_features = X.select_dtypes(include=['object']).columns.tolist()\n",
    "\n",
    "\n"
   ]
  },
  {
   "cell_type": "code",
   "execution_count": 13,
   "id": "9836e362-82bc-4aba-8698-6a7562499f83",
   "metadata": {},
   "outputs": [],
   "source": [
    "X_train, X_test, y_train, y_test = train_test_split(X, y, test_size=0.2, random_state=42)\n",
    "y_train_log = np.log1p(y_train)\n"
   ]
  },
  {
   "cell_type": "code",
   "execution_count": 43,
   "id": "d96e928f-bf74-4105-9f61-8e051eb29466",
   "metadata": {},
   "outputs": [],
   "source": [
    "numeric_transformer = Pipeline([\n",
    "    ('imputer', SimpleImputer(strategy='mean')),\n",
    "    ('scaler', RobustScaler())  # More robust to outliers\n",
    "])\n",
    "\n",
    "categorical_transformer = Pipeline([\n",
    "    ('imputer', SimpleImputer(strategy='most_frequent')),\n",
    "    ('encoder', OneHotEncoder(handle_unknown='ignore', sparse_output=False))\n",
    "])"
   ]
  },
  {
   "cell_type": "code",
   "execution_count": 45,
   "id": "129080e0-efc5-4c34-8a86-2f1552b88f43",
   "metadata": {},
   "outputs": [],
   "source": [
    "preprocessor = ColumnTransformer([\n",
    "    ('num', numeric_transformer, numeric_features),\n",
    "    ('cat', categorical_transformer, categorical_features)\n",
    "])\n"
   ]
  },
  {
   "cell_type": "code",
   "execution_count": 47,
   "id": "19230349-aea1-43ca-9d82-4d9b631be8b6",
   "metadata": {},
   "outputs": [],
   "source": [
    "pipeline = Pipeline([\n",
    "    ('preprocessing', preprocessor),\n",
    "    ('model', RandomForestRegressor(n_estimators=150, random_state=42))\n",
    "])\n",
    "pipeline.fit(X_train, y_train)\n",
    "y_pred = pipeline.predict(X_test)\n"
   ]
  },
  {
   "cell_type": "code",
   "execution_count": 55,
   "id": "addcc2bf-634d-4cac-b91b-f5fc7a10929c",
   "metadata": {},
   "outputs": [
    {
     "name": "stdout",
     "output_type": "stream",
     "text": [
      "Simplified Vehicle Price Prediction:\n",
      "Mean Absolute Error (MAE): 3967.64\n",
      "Mean Squared Error (MSE): 38510916.49\n",
      "R2 Score: 0.84\n"
     ]
    }
   ],
   "source": [
    "mae = mean_absolute_error(y_test, y_pred)\n",
    "mse = mean_squared_error(y_test, y_pred)\n",
    "r2 = r2_score(y_test, y_pred)\n",
    "\n",
    "print(\"Simplified Vehicle Price Prediction:\")\n",
    "print(f\"Mean Absolute Error (MAE): {mae:.2f}\")\n",
    "print(f\"Mean Squared Error (MSE): {mse:.2f}\")\n",
    "print(f\"R2 Score: {r2:.2f}\")\n"
   ]
  },
  {
   "cell_type": "code",
   "execution_count": 57,
   "id": "85df1e9e-02e1-4add-bfd0-1c2ad3fe9f4e",
   "metadata": {},
   "outputs": [
    {
     "data": {
      "image/png": "[encoded data removed]",
      "text/plain": [
       "<Figure size 800x600 with 1 Axes>"
      ]
     },
     "metadata": {},
     "output_type": "display_data"
    }
   ],
   "source": [
    "plt.figure(figsize=(8, 6))\n",
    "plt.scatter(y_test, y_pred, alpha=0.4, color='blue')\n",
    "plt.plot([y_test.min(), y_test.max()], [y_test.min(), y_test.max()], 'r--')\n",
    "plt.xlabel(\"Actual Price\")\n",
    "plt.ylabel(\"Predicted Price\")\n",
    "plt.title(\"Actual vs Predicted Vehicle Prices\")\n",
    "plt.grid(True)\n",
    "plt.tight_layout()\n",
    "plt.show()"
   ]
  },
  {
   "cell_type": "code",
   "execution_count": null,
   "id": "774300a6-5077-4a86-8517-23b44491d5fc",
   "metadata": {},
   "outputs": [],
   "source": []
  }
 ],
 "metadata": {
  "kernelspec": {
   "display_name": "Python [conda env:base] *",
   "language": "python",
   "name": "conda-base-py"
  },
  "language_info": {
   "codemirror_mode": {
    "name": "ipython",
    "version": 3
   },
   "file_extension": ".py",
   "mimetype": "text/x-python",
   "name": "python",
   "nbconvert_exporter": "python",
   "pygments_lexer": "ipython3",
   "version": "3.12.7"
  }
 },
 "nbformat": 4,
 "nbformat_minor": 5
}
